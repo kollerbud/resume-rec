{
  "nbformat": 4,
  "nbformat_minor": 0,
  "metadata": {
    "colab": {
      "provenance": [],
      "authorship_tag": "ABX9TyPHx8XeE1WmtQUlOu3bXBou",
      "include_colab_link": true
    },
    "kernelspec": {
      "name": "python3",
      "display_name": "Python 3"
    },
    "language_info": {
      "name": "python"
    },
    "widgets": {
      "application/vnd.jupyter.widget-state+json": {
        "085d11890ce94d339aa17b52c4ea0331": {
          "model_module": "@jupyter-widgets/controls",
          "model_name": "FloatProgressModel",
          "model_module_version": "1.5.0",
          "state": {
            "_dom_classes": [],
            "_model_module": "@jupyter-widgets/controls",
            "_model_module_version": "1.5.0",
            "_model_name": "FloatProgressModel",
            "_view_count": null,
            "_view_module": "@jupyter-widgets/controls",
            "_view_module_version": "1.5.0",
            "_view_name": "ProgressView",
            "bar_style": "",
            "description": "",
            "description_tooltip": null,
            "layout": "IPY_MODEL_162ae5ce0919444586fa6a0332f653ba",
            "max": 100,
            "min": 0,
            "orientation": "horizontal",
            "style": "IPY_MODEL_e78bfc8f0609479aa2b95aab0cd3a049",
            "value": 100
          }
        },
        "162ae5ce0919444586fa6a0332f653ba": {
          "model_module": "@jupyter-widgets/base",
          "model_name": "LayoutModel",
          "model_module_version": "1.2.0",
          "state": {
            "_model_module": "@jupyter-widgets/base",
            "_model_module_version": "1.2.0",
            "_model_name": "LayoutModel",
            "_view_count": null,
            "_view_module": "@jupyter-widgets/base",
            "_view_module_version": "1.2.0",
            "_view_name": "LayoutView",
            "align_content": null,
            "align_items": null,
            "align_self": null,
            "border": null,
            "bottom": null,
            "display": null,
            "flex": null,
            "flex_flow": null,
            "grid_area": null,
            "grid_auto_columns": null,
            "grid_auto_flow": null,
            "grid_auto_rows": null,
            "grid_column": null,
            "grid_gap": null,
            "grid_row": null,
            "grid_template_areas": null,
            "grid_template_columns": null,
            "grid_template_rows": null,
            "height": null,
            "justify_content": null,
            "justify_items": null,
            "left": null,
            "margin": null,
            "max_height": null,
            "max_width": null,
            "min_height": null,
            "min_width": null,
            "object_fit": null,
            "object_position": null,
            "order": null,
            "overflow": null,
            "overflow_x": null,
            "overflow_y": null,
            "padding": null,
            "right": null,
            "top": null,
            "visibility": null,
            "width": "auto"
          }
        },
        "e78bfc8f0609479aa2b95aab0cd3a049": {
          "model_module": "@jupyter-widgets/controls",
          "model_name": "ProgressStyleModel",
          "model_module_version": "1.5.0",
          "state": {
            "_model_module": "@jupyter-widgets/controls",
            "_model_module_version": "1.5.0",
            "_model_name": "ProgressStyleModel",
            "_view_count": null,
            "_view_module": "@jupyter-widgets/base",
            "_view_module_version": "1.2.0",
            "_view_name": "StyleView",
            "bar_color": "black",
            "description_width": ""
          }
        }
      }
    }
  },
  "cells": [
    {
      "cell_type": "markdown",
      "metadata": {
        "id": "view-in-github",
        "colab_type": "text"
      },
      "source": [
        "<a href=\"https://colab.research.google.com/github/kollerbud/resume-rec/blob/main/src/notebooks/LDA.ipynb\" target=\"_parent\"><img src=\"https://colab.research.google.com/assets/colab-badge.svg\" alt=\"Open In Colab\"/></a>"
      ]
    },
    {
      "cell_type": "code",
      "execution_count": 12,
      "metadata": {
        "id": "flfKTTelY6RG",
        "colab": {
          "base_uri": "https://localhost:8080/"
        },
        "outputId": "d2fc1b69-ef05-4fd1-bb1a-1b640e65b618"
      },
      "outputs": [
        {
          "output_type": "stream",
          "name": "stdout",
          "text": [
            "Drive already mounted at /content/drive; to attempt to forcibly remount, call drive.mount(\"/content/drive\", force_remount=True).\n"
          ]
        }
      ],
      "source": [
        "from google.colab import drive\n",
        "drive.mount('/content/drive')\n",
        "import os\n",
        "import shutil\n",
        "os.makedirs('/root/.kaggle', exist_ok=True)\n",
        "shutil.copy('/content/drive/MyDrive/georgia Tech/7406/HW5/kaggle.json', '/root/.kaggle/kaggle.json')\n",
        "os.chmod('/root/.kaggle/kaggle.json', 600)"
      ]
    },
    {
      "cell_type": "code",
      "source": [
        "# arshkon/linkedin-job-postings\n",
        "# snehaanbhawal/resume-dataset"
      ],
      "metadata": {
        "id": "rtc_XNc_YRV_"
      },
      "execution_count": 13,
      "outputs": []
    },
    {
      "cell_type": "code",
      "source": [
        "import kagglehub\n",
        "import kaggle\n",
        "kaggle.api.dataset_download_files('arshkon/linkedin-job-postings', path='/content/job_post/', unzip=True)\n",
        "kaggle.api.dataset_download_files('snehaanbhawal/resume-dataset', path='/content/resume/', unzip=True)"
      ],
      "metadata": {
        "id": "trluv-ztnytZ",
        "colab": {
          "base_uri": "https://localhost:8080/"
        },
        "outputId": "27226e43-0193-4da5-f6ea-feaabddbb069"
      },
      "execution_count": 14,
      "outputs": [
        {
          "output_type": "stream",
          "name": "stderr",
          "text": [
            "2024-10-31 04:37:53,215 WARNING Retrying (Retry(total=2, connect=None, read=None, redirect=None, status=None)) after connection broken by 'RemoteDisconnected('Remote end closed connection without response')': /api/v1/datasets/download/arshkon/linkedin-job-postings?datasetVersionNumber=None\n",
            "WARNING:urllib3.connectionpool:Retrying (Retry(total=2, connect=None, read=None, redirect=None, status=None)) after connection broken by 'RemoteDisconnected('Remote end closed connection without response')': /api/v1/datasets/download/arshkon/linkedin-job-postings?datasetVersionNumber=None\n"
          ]
        },
        {
          "output_type": "stream",
          "name": "stdout",
          "text": [
            "Dataset URL: https://www.kaggle.com/datasets/arshkon/linkedin-job-postings\n",
            "Dataset URL: https://www.kaggle.com/datasets/snehaanbhawal/resume-dataset\n"
          ]
        }
      ]
    },
    {
      "cell_type": "code",
      "source": [
        "import polars as pl\n",
        "import duckdb"
      ],
      "metadata": {
        "id": "gvTNJMAcn-A2"
      },
      "execution_count": 15,
      "outputs": []
    },
    {
      "cell_type": "code",
      "source": [
        "sql_statement = \"\"\"\n",
        "  SELECT postings.*, industry.industry_name\n",
        "  FROM (\n",
        "    SELECT *\n",
        "    FROM read_csv_auto('job_post/postings.csv')\n",
        "  ) AS postings\n",
        "  LEFT JOIN (\n",
        "    SELECT job_id, industry_id\n",
        "    FROM read_csv_auto('job_post/jobs/job_industries.csv')\n",
        "  ) AS job_industries\n",
        "  ON postings.job_id = job_industries.job_id\n",
        "  LEFT JOIN (\n",
        "    SELECT industry_id, industry_name\n",
        "    FROM read_csv_auto('job_post/mappings/industries.csv')\n",
        "  ) AS industry\n",
        "  ON job_industries.industry_id = industry.industry_id\n",
        "  ;\n",
        "\"\"\"\n",
        "#   //WHERE postings. = industry.\n",
        "df = duckdb.sql(sql_statement).pl()"
      ],
      "metadata": {
        "id": "CYa5qZ46u9iT",
        "colab": {
          "base_uri": "https://localhost:8080/",
          "height": 49,
          "referenced_widgets": [
            "085d11890ce94d339aa17b52c4ea0331",
            "162ae5ce0919444586fa6a0332f653ba",
            "e78bfc8f0609479aa2b95aab0cd3a049"
          ]
        },
        "outputId": "b052d168-27eb-489f-e35e-0a0dde2d90ac"
      },
      "execution_count": 16,
      "outputs": [
        {
          "output_type": "display_data",
          "data": {
            "text/plain": [
              "FloatProgress(value=0.0, layout=Layout(width='auto'), style=ProgressStyle(bar_color='black'))"
            ],
            "application/vnd.jupyter.widget-view+json": {
              "version_major": 2,
              "version_minor": 0,
              "model_id": "085d11890ce94d339aa17b52c4ea0331"
            }
          },
          "metadata": {}
        }
      ]
    },
    {
      "cell_type": "code",
      "source": [
        "df"
      ],
      "metadata": {
        "colab": {
          "base_uri": "https://localhost:8080/",
          "height": 810
        },
        "id": "er4oyu832d4P",
        "outputId": "a261f7e5-99c8-4d45-f475-12ca31c4885d"
      },
      "execution_count": 17,
      "outputs": [
        {
          "output_type": "execute_result",
          "data": {
            "text/plain": [
              "shape: (160_399, 32)\n",
              "┌────────────┬────────────┬────────────┬────────────┬───┬───────────┬──────────┬───────┬───────────┐\n",
              "│ job_id     ┆ company_na ┆ title      ┆ descriptio ┆ … ┆ normalize ┆ zip_code ┆ fips  ┆ industry_ │\n",
              "│ ---        ┆ me         ┆ ---        ┆ n          ┆   ┆ d_salary  ┆ ---      ┆ ---   ┆ name      │\n",
              "│ i64        ┆ ---        ┆ str        ┆ ---        ┆   ┆ ---       ┆ str      ┆ str   ┆ ---       │\n",
              "│            ┆ str        ┆            ┆ str        ┆   ┆ f64       ┆          ┆       ┆ str       │\n",
              "╞════════════╪════════════╪════════════╪════════════╪═══╪═══════════╪══════════╪═══════╪═══════════╡\n",
              "│ 3884443211 ┆ Exact      ┆ Applicatio ┆ Help us    ┆ … ┆ 88000.0   ┆ 53703    ┆ 55025 ┆ Medical   │\n",
              "│            ┆ Sciences   ┆ n          ┆ change     ┆   ┆           ┆          ┆       ┆ Equipment │\n",
              "│            ┆            ┆ Scientist  ┆ lives      ┆   ┆           ┆          ┆       ┆ Manufactu │\n",
              "│            ┆            ┆ II, Tech…  ┆            ┆   ┆           ┆          ┆       ┆ rin…      │\n",
              "│            ┆            ┆            ┆ At Exact…  ┆   ┆           ┆          ┆       ┆           │\n",
              "│ 3884443228 ┆ ALFACONSEI ┆ IT Support ┆ Summary    ┆ … ┆ null      ┆ 33122    ┆ 12025 ┆ Informati │\n",
              "│            ┆ L.CA       ┆ Specialist ┆ Descriptio ┆   ┆           ┆          ┆       ┆ on Techno │\n",
              "│            ┆            ┆            ┆ n          ┆   ┆           ┆          ┆       ┆ logy &    │\n",
              "│            ┆            ┆            ┆            ┆   ┆           ┆          ┆       ┆ Servi…    │\n",
              "│            ┆            ┆            ┆ The IT Su… ┆   ┆           ┆          ┆       ┆           │\n",
              "│ 3884443258 ┆ LyondellBa ┆ Technician ┆ LyondellBa ┆ … ┆ null      ┆ 77571    ┆ 48201 ┆ Chemical  │\n",
              "│            ┆ sell       ┆ , Maintena ┆ sell       ┆   ┆           ┆          ┆       ┆ Manufactu │\n",
              "│            ┆            ┆ nce        ┆            ┆   ┆           ┆          ┆       ┆ ring      │\n",
              "│            ┆            ┆ Analyz…    ┆ Basic      ┆   ┆           ┆          ┆       ┆           │\n",
              "│            ┆            ┆            ┆ Function…  ┆   ┆           ┆          ┆       ┆           │\n",
              "│ 3884443315 ┆ Odyssey    ┆ Chief,     ┆ Position   ┆ … ┆ null      ┆ 94533    ┆ 06095 ┆ Governmen │\n",
              "│            ┆ Systems    ┆ Research   ┆ Summary    ┆   ┆           ┆          ┆       ┆ t Adminis │\n",
              "│            ┆            ┆ Oversight, ┆            ┆   ┆           ┆          ┆       ┆ tration   │\n",
              "│            ┆            ┆ and…       ┆ Position   ┆   ┆           ┆          ┆       ┆           │\n",
              "│            ┆            ┆            ┆ Su…        ┆   ┆           ┆          ┆       ┆           │\n",
              "│ 3884443338 ┆ Deciphera  ┆ Director,  ┆ Company    ┆ … ┆ null      ┆ 02451    ┆ null  ┆ Pharmaceu │\n",
              "│            ┆ Pharmaceut ┆ Biostatist ┆ Descriptio ┆   ┆           ┆          ┆       ┆ tical Man │\n",
              "│            ┆ icals      ┆ ics        ┆ n          ┆   ┆           ┆          ┆       ┆ ufacturin │\n",
              "│            ┆            ┆            ┆            ┆   ┆           ┆          ┆       ┆ g         │\n",
              "│            ┆            ┆            ┆ Deciphera… ┆   ┆           ┆          ┆       ┆           │\n",
              "│ …          ┆ …          ┆ …          ┆ …          ┆ … ┆ …         ┆ …        ┆ …     ┆ …         │\n",
              "│ 3906255770 ┆ null       ┆ Psychother ┆            ┆ … ┆ null      ┆ null     ┆ null  ┆ null      │\n",
              "│            ┆            ┆ apist      ┆            ┆   ┆           ┆          ┆       ┆           │\n",
              "│            ┆            ┆            ┆            ┆   ┆           ┆          ┆       ┆           │\n",
              "│            ┆            ┆            ┆ Role Descr ┆   ┆           ┆          ┆       ┆           │\n",
              "│            ┆            ┆            ┆ iption     ┆   ┆           ┆          ┆       ┆           │\n",
              "│            ┆            ┆            ┆ This is a  ┆   ┆           ┆          ┆       ┆           │\n",
              "│            ┆            ┆            ┆ …          ┆   ┆           ┆          ┆       ┆           │\n",
              "│ 3906260896 ┆ null       ┆ Industrial ┆ Looking    ┆ … ┆ null      ┆ 08016    ┆ 34005 ┆ null      │\n",
              "│            ┆            ┆ Maintenanc ┆ for a      ┆   ┆           ┆          ┆       ┆           │\n",
              "│            ┆            ┆ e Technic… ┆ skilled    ┆   ┆           ┆          ┆       ┆           │\n",
              "│            ┆            ┆            ┆ industri…  ┆   ┆           ┆          ┆       ┆           │\n",
              "│ 3906262085 ┆ null       ┆ 911        ┆ Answering  ┆ … ┆ null      ┆ 48066    ┆ 26099 ┆ null      │\n",
              "│            ┆            ┆ Emergency  ┆ emergency  ┆   ┆           ┆          ┆       ┆           │\n",
              "│            ┆            ┆ Dispatcher ┆ 911 calls  ┆   ┆           ┆          ┆       ┆           │\n",
              "│            ┆            ┆            ┆ …          ┆   ┆           ┆          ┆       ┆           │\n",
              "│ 3906265021 ┆ null       ┆ Counselor  ┆ \"Company   ┆ … ┆ null      ┆ 20781    ┆ 24033 ┆ null      │\n",
              "│            ┆            ┆            ┆ Descriptio ┆   ┆           ┆          ┆       ┆           │\n",
              "│            ┆            ┆            ┆ n We       ┆   ┆           ┆          ┆       ┆           │\n",
              "│            ┆            ┆            ┆ sugges…    ┆   ┆           ┆          ┆       ┆           │\n",
              "│ 3906266100 ┆ Maranatha  ┆ Lead       ┆ In search  ┆ … ┆ null      ┆ 30566    ┆ 13139 ┆ null      │\n",
              "│            ┆ Christian  ┆ Preschool  ┆ of someone ┆   ┆           ┆          ┆       ┆           │\n",
              "│            ┆ Academy    ┆ Teacher    ┆ to be a f… ┆   ┆           ┆          ┆       ┆           │\n",
              "└────────────┴────────────┴────────────┴────────────┴───┴───────────┴──────────┴───────┴───────────┘"
            ],
            "text/html": [
              "<div><style>\n",
              ".dataframe > thead > tr,\n",
              ".dataframe > tbody > tr {\n",
              "  text-align: right;\n",
              "  white-space: pre-wrap;\n",
              "}\n",
              "</style>\n",
              "<small>shape: (160_399, 32)</small><table border=\"1\" class=\"dataframe\"><thead><tr><th>job_id</th><th>company_name</th><th>title</th><th>description</th><th>max_salary</th><th>pay_period</th><th>location</th><th>company_id</th><th>views</th><th>med_salary</th><th>min_salary</th><th>formatted_work_type</th><th>applies</th><th>original_listed_time</th><th>remote_allowed</th><th>job_posting_url</th><th>application_url</th><th>application_type</th><th>expiry</th><th>closed_time</th><th>formatted_experience_level</th><th>skills_desc</th><th>listed_time</th><th>posting_domain</th><th>sponsored</th><th>work_type</th><th>currency</th><th>compensation_type</th><th>normalized_salary</th><th>zip_code</th><th>fips</th><th>industry_name</th></tr><tr><td>i64</td><td>str</td><td>str</td><td>str</td><td>f64</td><td>str</td><td>str</td><td>f64</td><td>f64</td><td>f64</td><td>f64</td><td>str</td><td>f64</td><td>f64</td><td>f64</td><td>str</td><td>str</td><td>str</td><td>f64</td><td>f64</td><td>str</td><td>str</td><td>f64</td><td>str</td><td>i64</td><td>str</td><td>str</td><td>str</td><td>f64</td><td>str</td><td>str</td><td>str</td></tr></thead><tbody><tr><td>3884443211</td><td>&quot;Exact Sciences&quot;</td><td>&quot;Application Scientist II, Tech…</td><td>&quot;Help us change lives\n",
              "\n",
              "At Exact…</td><td>109000.0</td><td>&quot;YEARLY&quot;</td><td>&quot;Madison, WI&quot;</td><td>48835.0</td><td>29.0</td><td>null</td><td>67000.0</td><td>&quot;Full-time&quot;</td><td>1.0</td><td>1.7124e12</td><td>null</td><td>&quot;https://www.linkedin.com/jobs/…</td><td>&quot;https://exactsciences.wd1.mywo…</td><td>&quot;OffsiteApply&quot;</td><td>1.7149e12</td><td>null</td><td>&quot;Mid-Senior level&quot;</td><td>null</td><td>1.7124e12</td><td>&quot;exactsciences.wd1.myworkdayjob…</td><td>0</td><td>&quot;FULL_TIME&quot;</td><td>&quot;USD&quot;</td><td>&quot;BASE_SALARY&quot;</td><td>88000.0</td><td>&quot;53703&quot;</td><td>&quot;55025&quot;</td><td>&quot;Medical Equipment Manufacturin…</td></tr><tr><td>3884443228</td><td>&quot;ALFACONSEIL.CA&quot;</td><td>&quot;IT Support Specialist&quot;</td><td>&quot;Summary Description\n",
              "\n",
              "The IT Su…</td><td>null</td><td>null</td><td>&quot;Miami, FL&quot;</td><td>4.0717284e7</td><td>29.0</td><td>null</td><td>null</td><td>&quot;Full-time&quot;</td><td>10.0</td><td>1.7124e12</td><td>null</td><td>&quot;https://www.linkedin.com/jobs/…</td><td>null</td><td>&quot;SimpleOnsiteApply&quot;</td><td>1.7149e12</td><td>null</td><td>&quot;Entry level&quot;</td><td>null</td><td>1.7124e12</td><td>&quot;carrieres.alfaconseil.ca&quot;</td><td>0</td><td>&quot;FULL_TIME&quot;</td><td>null</td><td>null</td><td>null</td><td>&quot;33122&quot;</td><td>&quot;12025&quot;</td><td>&quot;Information Technology &amp; Servi…</td></tr><tr><td>3884443258</td><td>&quot;LyondellBasell&quot;</td><td>&quot;Technician, Maintenance Analyz…</td><td>&quot;LyondellBasell\n",
              "\n",
              "Basic Function…</td><td>null</td><td>null</td><td>&quot;La Porte, TX&quot;</td><td>5667.0</td><td>11.0</td><td>null</td><td>null</td><td>&quot;Full-time&quot;</td><td>null</td><td>1.7123e12</td><td>null</td><td>&quot;https://www.linkedin.com/jobs/…</td><td>&quot;https://careers.lyondellbasell…</td><td>&quot;OffsiteApply&quot;</td><td>1.7149e12</td><td>null</td><td>&quot;Entry level&quot;</td><td>null</td><td>1.7124e12</td><td>&quot;careers.lyondellbasell.com&quot;</td><td>0</td><td>&quot;FULL_TIME&quot;</td><td>null</td><td>null</td><td>null</td><td>&quot;77571&quot;</td><td>&quot;48201&quot;</td><td>&quot;Chemical Manufacturing&quot;</td></tr><tr><td>3884443315</td><td>&quot;Odyssey Systems&quot;</td><td>&quot;Chief, Research Oversight, and…</td><td>&quot;Position Summary\n",
              "\n",
              " Position Su…</td><td>null</td><td>null</td><td>&quot;Fairfield, CA&quot;</td><td>37900.0</td><td>7.0</td><td>null</td><td>null</td><td>&quot;Full-time&quot;</td><td>null</td><td>1.7124e12</td><td>null</td><td>&quot;https://www.linkedin.com/jobs/…</td><td>&quot;https://careers-odysseyconsult…</td><td>&quot;OffsiteApply&quot;</td><td>1.7149e12</td><td>null</td><td>&quot;Mid-Senior level&quot;</td><td>null</td><td>1.7124e12</td><td>&quot;careers-odysseyconsult.icims.c…</td><td>0</td><td>&quot;FULL_TIME&quot;</td><td>null</td><td>null</td><td>null</td><td>&quot;94533&quot;</td><td>&quot;06095&quot;</td><td>&quot;Government Administration&quot;</td></tr><tr><td>3884443338</td><td>&quot;Deciphera Pharmaceuticals&quot;</td><td>&quot;Director, Biostatistics&quot;</td><td>&quot;Company Description\n",
              "\n",
              "Deciphera…</td><td>null</td><td>null</td><td>&quot;Waltham, MA&quot;</td><td>2.288802e6</td><td>16.0</td><td>null</td><td>null</td><td>&quot;Full-time&quot;</td><td>null</td><td>1.7124e12</td><td>null</td><td>&quot;https://www.linkedin.com/jobs/…</td><td>&quot;https://jobs.smartrecruiters.c…</td><td>&quot;ComplexOnsiteApply&quot;</td><td>1.7149e12</td><td>null</td><td>&quot;Director&quot;</td><td>null</td><td>1.7124e12</td><td>&quot;jobs.smartrecruiters.com&quot;</td><td>0</td><td>&quot;FULL_TIME&quot;</td><td>null</td><td>null</td><td>null</td><td>&quot;02451&quot;</td><td>null</td><td>&quot;Pharmaceutical Manufacturing&quot;</td></tr><tr><td>&hellip;</td><td>&hellip;</td><td>&hellip;</td><td>&hellip;</td><td>&hellip;</td><td>&hellip;</td><td>&hellip;</td><td>&hellip;</td><td>&hellip;</td><td>&hellip;</td><td>&hellip;</td><td>&hellip;</td><td>&hellip;</td><td>&hellip;</td><td>&hellip;</td><td>&hellip;</td><td>&hellip;</td><td>&hellip;</td><td>&hellip;</td><td>&hellip;</td><td>&hellip;</td><td>&hellip;</td><td>&hellip;</td><td>&hellip;</td><td>&hellip;</td><td>&hellip;</td><td>&hellip;</td><td>&hellip;</td><td>&hellip;</td><td>&hellip;</td><td>&hellip;</td><td>&hellip;</td></tr><tr><td>3906255770</td><td>null</td><td>&quot;Psychotherapist&quot;</td><td>&quot;\n",
              "\n",
              "\n",
              "Role Description This is a …</td><td>null</td><td>null</td><td>&quot;Maryland, United States&quot;</td><td>null</td><td>2.0</td><td>null</td><td>null</td><td>&quot;Full-time&quot;</td><td>null</td><td>1.7136e12</td><td>1.0</td><td>&quot;https://www.linkedin.com/jobs/…</td><td>null</td><td>&quot;ComplexOnsiteApply&quot;</td><td>1.7162e12</td><td>null</td><td>null</td><td>null</td><td>1.7136e12</td><td>null</td><td>0</td><td>&quot;FULL_TIME&quot;</td><td>null</td><td>null</td><td>null</td><td>null</td><td>null</td><td>null</td></tr><tr><td>3906260896</td><td>null</td><td>&quot;Industrial Maintenance Technic…</td><td>&quot;Looking for a skilled industri…</td><td>null</td><td>null</td><td>&quot;Burlington, NJ&quot;</td><td>null</td><td>1.0</td><td>null</td><td>null</td><td>&quot;Full-time&quot;</td><td>null</td><td>1.7136e12</td><td>null</td><td>&quot;https://www.linkedin.com/jobs/…</td><td>null</td><td>&quot;ComplexOnsiteApply&quot;</td><td>1.7162e12</td><td>null</td><td>null</td><td>null</td><td>1.7136e12</td><td>null</td><td>0</td><td>&quot;FULL_TIME&quot;</td><td>null</td><td>null</td><td>null</td><td>&quot;08016&quot;</td><td>&quot;34005&quot;</td><td>null</td></tr><tr><td>3906262085</td><td>null</td><td>&quot;911 Emergency Dispatcher&quot;</td><td>&quot;Answering emergency 911 calls …</td><td>null</td><td>null</td><td>&quot;Roseville, MI&quot;</td><td>null</td><td>2.0</td><td>null</td><td>null</td><td>&quot;Full-time&quot;</td><td>null</td><td>1.7136e12</td><td>null</td><td>&quot;https://www.linkedin.com/jobs/…</td><td>null</td><td>&quot;SimpleOnsiteApply&quot;</td><td>1.7162e12</td><td>null</td><td>null</td><td>null</td><td>1.7136e12</td><td>null</td><td>0</td><td>&quot;FULL_TIME&quot;</td><td>null</td><td>null</td><td>null</td><td>&quot;48066&quot;</td><td>&quot;26099&quot;</td><td>null</td></tr><tr><td>3906265021</td><td>null</td><td>&quot;Counselor&quot;</td><td>&quot;&quot;Company Description We sugges…</td><td>null</td><td>null</td><td>&quot;Hyattsville, MD&quot;</td><td>null</td><td>2.0</td><td>null</td><td>null</td><td>&quot;Part-time&quot;</td><td>null</td><td>1.7136e12</td><td>null</td><td>&quot;https://www.linkedin.com/jobs/…</td><td>null</td><td>&quot;SimpleOnsiteApply&quot;</td><td>1.7162e12</td><td>null</td><td>null</td><td>null</td><td>1.7136e12</td><td>null</td><td>0</td><td>&quot;PART_TIME&quot;</td><td>null</td><td>null</td><td>null</td><td>&quot;20781&quot;</td><td>&quot;24033&quot;</td><td>null</td></tr><tr><td>3906266100</td><td>&quot;Maranatha Christian Academy&quot;</td><td>&quot;Lead Preschool Teacher&quot;</td><td>&quot;In search of someone to be a f…</td><td>null</td><td>null</td><td>&quot;Oakwood, GA&quot;</td><td>9.641086e6</td><td>3.0</td><td>null</td><td>null</td><td>&quot;Full-time&quot;</td><td>null</td><td>1.7136e12</td><td>null</td><td>&quot;https://www.linkedin.com/jobs/…</td><td>null</td><td>&quot;SimpleOnsiteApply&quot;</td><td>1.7162e12</td><td>null</td><td>null</td><td>null</td><td>1.7136e12</td><td>null</td><td>0</td><td>&quot;FULL_TIME&quot;</td><td>null</td><td>null</td><td>null</td><td>&quot;30566&quot;</td><td>&quot;13139&quot;</td><td>null</td></tr></tbody></table></div>"
            ]
          },
          "metadata": {},
          "execution_count": 17
        }
      ]
    },
    {
      "cell_type": "code",
      "source": [
        "df.group_by('industry_name').agg(pl.count('industry_name').alias('job_post_count')).sort('job_post_count', descending=True)[:15]"
      ],
      "metadata": {
        "colab": {
          "base_uri": "https://localhost:8080/",
          "height": 443
        },
        "id": "kLu8X4TS5fpO",
        "outputId": "2ef63877-92df-4c18-8681-32b77499b90e"
      },
      "execution_count": 7,
      "outputs": [
        {
          "output_type": "execute_result",
          "data": {
            "text/plain": [
              "shape: (15, 2)\n",
              "┌───────────────────────────────┬────────────────┐\n",
              "│ industry_name                 ┆ job_post_count │\n",
              "│ ---                           ┆ ---            │\n",
              "│ str                           ┆ u32            │\n",
              "╞═══════════════════════════════╪════════════════╡\n",
              "│ Hospitals and Health Care     ┆ 17762          │\n",
              "│ Retail                        ┆ 10731          │\n",
              "│ IT Services and IT Consulting ┆ 10039          │\n",
              "│ Staffing and Recruiting       ┆ 8261           │\n",
              "│ Financial Services            ┆ 7964           │\n",
              "│ …                             ┆ …              │\n",
              "│ Hospitality                   ┆ 2417           │\n",
              "│ Pharmaceutical Manufacturing  ┆ 2403           │\n",
              "│ Real Estate                   ┆ 2313           │\n",
              "│ Telecommunications            ┆ 2074           │\n",
              "│ Non-profit Organizations      ┆ 2033           │\n",
              "└───────────────────────────────┴────────────────┘"
            ],
            "text/html": [
              "<div><style>\n",
              ".dataframe > thead > tr,\n",
              ".dataframe > tbody > tr {\n",
              "  text-align: right;\n",
              "  white-space: pre-wrap;\n",
              "}\n",
              "</style>\n",
              "<small>shape: (15, 2)</small><table border=\"1\" class=\"dataframe\"><thead><tr><th>industry_name</th><th>job_post_count</th></tr><tr><td>str</td><td>u32</td></tr></thead><tbody><tr><td>&quot;Hospitals and Health Care&quot;</td><td>17762</td></tr><tr><td>&quot;Retail&quot;</td><td>10731</td></tr><tr><td>&quot;IT Services and IT Consulting&quot;</td><td>10039</td></tr><tr><td>&quot;Staffing and Recruiting&quot;</td><td>8261</td></tr><tr><td>&quot;Financial Services&quot;</td><td>7964</td></tr><tr><td>&hellip;</td><td>&hellip;</td></tr><tr><td>&quot;Hospitality&quot;</td><td>2417</td></tr><tr><td>&quot;Pharmaceutical Manufacturing&quot;</td><td>2403</td></tr><tr><td>&quot;Real Estate&quot;</td><td>2313</td></tr><tr><td>&quot;Telecommunications&quot;</td><td>2074</td></tr><tr><td>&quot;Non-profit Organizations&quot;</td><td>2033</td></tr></tbody></table></div>"
            ]
          },
          "metadata": {},
          "execution_count": 7
        }
      ]
    },
    {
      "cell_type": "code",
      "source": [
        "train_df = df.sample(fraction=0.8, with_replacement=False)\n",
        "test_df = df.filter(~pl.col('job_id').is_in(train_df['job_id']))"
      ],
      "metadata": {
        "id": "TzWeO-sa5sEK"
      },
      "execution_count": 8,
      "outputs": []
    },
    {
      "cell_type": "code",
      "source": [
        "test_job_id_df = test_df.select(\"job_id\")  # Select the job_id column as a DataFrame\n",
        "test_job_id_df.write_csv(\"testset_job_id.csv\")"
      ],
      "metadata": {
        "id": "1Jpa6_R-9WUl"
      },
      "execution_count": 9,
      "outputs": []
    },
    {
      "cell_type": "code",
      "source": [
        "sql_statement2 = \"\"\"\n",
        "SELECT *\n",
        "FROM read_csv_auto('resume/Resume/Resume.csv')\n",
        "\"\"\"\n",
        "df_resume = duckdb.sql(sql_statement2).pl()\n"
      ],
      "metadata": {
        "id": "LKddQRn99GXA"
      },
      "execution_count": 10,
      "outputs": []
    },
    {
      "cell_type": "code",
      "source": [
        "df_resume"
      ],
      "metadata": {
        "colab": {
          "base_uri": "https://localhost:8080/",
          "height": 443
        },
        "id": "hiC5OGnBAOdT",
        "outputId": "0f9c2854-dd66-4773-db15-e2e94d5b1e22"
      },
      "execution_count": 11,
      "outputs": [
        {
          "output_type": "execute_result",
          "data": {
            "text/plain": [
              "shape: (2_484, 4)\n",
              "┌──────────┬─────────────────────────────────┬─────────────────────────────────┬──────────┐\n",
              "│ ID       ┆ Resume_str                      ┆ Resume_html                     ┆ Category │\n",
              "│ ---      ┆ ---                             ┆ ---                             ┆ ---      │\n",
              "│ i64      ┆ str                             ┆ str                             ┆ str      │\n",
              "╞══════════╪═════════════════════════════════╪═════════════════════════════════╪══════════╡\n",
              "│ 16852973 ┆          HR ADMINISTRATOR/MARK… ┆ <div class=\"fontsize fontface … ┆ HR       │\n",
              "│ 22323967 ┆          HR SPECIALIST, US HR … ┆ <div class=\"fontsize fontface … ┆ HR       │\n",
              "│ 33176873 ┆          HR DIRECTOR       Sum… ┆ <div class=\"fontsize fontface … ┆ HR       │\n",
              "│ 27018550 ┆          HR SPECIALIST       S… ┆ <div class=\"fontsize fontface … ┆ HR       │\n",
              "│ 17812897 ┆          HR MANAGER         Sk… ┆ <div class=\"fontsize fontface … ┆ HR       │\n",
              "│ …        ┆ …                               ┆ …                               ┆ …        │\n",
              "│ 99416532 ┆          RANK: SGT/E-5 NON- CO… ┆ <div class=\"fontsize fontface … ┆ AVIATION │\n",
              "│ 24589765 ┆          GOVERNMENT RELATIONS,… ┆ <div class=\"fontsize fontface … ┆ AVIATION │\n",
              "│ 31605080 ┆          GEEK SQUAD AGENT     … ┆ <div class=\"fontsize fontface … ┆ AVIATION │\n",
              "│ 21190805 ┆          PROGRAM DIRECTOR / OF… ┆ <div class=\"fontsize fontface … ┆ AVIATION │\n",
              "│ 37473139 ┆          STOREKEEPER II       … ┆ <div class=\"fontsize fontface … ┆ AVIATION │\n",
              "└──────────┴─────────────────────────────────┴─────────────────────────────────┴──────────┘"
            ],
            "text/html": [
              "<div><style>\n",
              ".dataframe > thead > tr,\n",
              ".dataframe > tbody > tr {\n",
              "  text-align: right;\n",
              "  white-space: pre-wrap;\n",
              "}\n",
              "</style>\n",
              "<small>shape: (2_484, 4)</small><table border=\"1\" class=\"dataframe\"><thead><tr><th>ID</th><th>Resume_str</th><th>Resume_html</th><th>Category</th></tr><tr><td>i64</td><td>str</td><td>str</td><td>str</td></tr></thead><tbody><tr><td>16852973</td><td>&quot;         HR ADMINISTRATOR/MARK…</td><td>&quot;&lt;div class=&quot;fontsize fontface …</td><td>&quot;HR&quot;</td></tr><tr><td>22323967</td><td>&quot;         HR SPECIALIST, US HR …</td><td>&quot;&lt;div class=&quot;fontsize fontface …</td><td>&quot;HR&quot;</td></tr><tr><td>33176873</td><td>&quot;         HR DIRECTOR       Sum…</td><td>&quot;&lt;div class=&quot;fontsize fontface …</td><td>&quot;HR&quot;</td></tr><tr><td>27018550</td><td>&quot;         HR SPECIALIST       S…</td><td>&quot;&lt;div class=&quot;fontsize fontface …</td><td>&quot;HR&quot;</td></tr><tr><td>17812897</td><td>&quot;         HR MANAGER         Sk…</td><td>&quot;&lt;div class=&quot;fontsize fontface …</td><td>&quot;HR&quot;</td></tr><tr><td>&hellip;</td><td>&hellip;</td><td>&hellip;</td><td>&hellip;</td></tr><tr><td>99416532</td><td>&quot;         RANK: SGT/E-5 NON- CO…</td><td>&quot;&lt;div class=&quot;fontsize fontface …</td><td>&quot;AVIATION&quot;</td></tr><tr><td>24589765</td><td>&quot;         GOVERNMENT RELATIONS,…</td><td>&quot;&lt;div class=&quot;fontsize fontface …</td><td>&quot;AVIATION&quot;</td></tr><tr><td>31605080</td><td>&quot;         GEEK SQUAD AGENT     …</td><td>&quot;&lt;div class=&quot;fontsize fontface …</td><td>&quot;AVIATION&quot;</td></tr><tr><td>21190805</td><td>&quot;         PROGRAM DIRECTOR / OF…</td><td>&quot;&lt;div class=&quot;fontsize fontface …</td><td>&quot;AVIATION&quot;</td></tr><tr><td>37473139</td><td>&quot;         STOREKEEPER II       …</td><td>&quot;&lt;div class=&quot;fontsize fontface …</td><td>&quot;AVIATION&quot;</td></tr></tbody></table></div>"
            ]
          },
          "metadata": {},
          "execution_count": 11
        }
      ]
    },
    {
      "cell_type": "code",
      "source": [],
      "metadata": {
        "id": "hrDrDxqsAdNu"
      },
      "execution_count": 11,
      "outputs": []
    }
  ]
}